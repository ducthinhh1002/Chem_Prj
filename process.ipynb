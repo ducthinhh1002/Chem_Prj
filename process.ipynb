{
 "cells": [
  {
   "cell_type": "code",
   "execution_count": 40,
   "metadata": {},
   "outputs": [],
   "source": [
    "import pandas as pd\n",
    "import re\n",
    "import numpy as np\n",
    "\n",
    "formula = pd.read_excel('formula.xlsx')\n",
    "infor = pd.read_excel('infor.xlsx')"
   ]
  },
  {
   "cell_type": "code",
   "execution_count": 46,
   "metadata": {},
   "outputs": [
    {
     "name": "stdout",
     "output_type": "stream",
     "text": [
      "Empty DataFrame\n",
      "Columns: [id, compound, C, H, O, F, N, S, P, Li, B, Cl, As, Rb, Si, K, Mg, Cs, MW, cyclic, density (g/mL), Boiling, Vabc, Radius, SLogP, SP, apol, bpol, SMILES]\n",
      "Index: []\n",
      "\n",
      "[0 rows x 29 columns]\n"
     ]
    }
   ],
   "source": [
    "samples = infor[infor['compound'].str.contains('MTEE', na=False)]\n",
    "print(samples)"
   ]
  },
  {
   "cell_type": "code",
   "execution_count": 41,
   "metadata": {},
   "outputs": [],
   "source": [
    "def split_general_formula(row):\n",
    "    try:\n",
    "        formula_str = str(row['formula']).strip()\n",
    "        match = re.match(r\"([A-Za-z0-9\\-]+(?:-[A-Za-z0-9\\-]+)*)\\s*\\(([\\d\\.\\-]+(?:-[\\d\\.\\-]+)*)\\s*mol\\)\", formula_str)\n",
    "        if not match:\n",
    "            return pd.Series()\n",
    "        compounds_part, mols_part = match.groups()\n",
    "        compounds = compounds_part.split(\"-\")\n",
    "        mols = [float(m) for m in mols_part.split(\"-\")]\n",
    "        if len(compounds) != len(mols):\n",
    "            return pd.Series()\n",
    "        data = {}\n",
    "        for i, (compound, mol) in enumerate(zip(compounds, mols), start=1):\n",
    "            data[f\"c{i}\"] = compound\n",
    "            data[f\"m{i}\"] = mol\n",
    "\n",
    "        return pd.Series(data)\n",
    "    except Exception as e:\n",
    "        return pd.Series()\n",
    "df_result = formula.apply(split_general_formula, axis=1)\n",
    "df_result = df_result.dropna(how='all')\n",
    "formula = pd.concat([formula, df_result], axis=1)\n"
   ]
  },
  {
   "cell_type": "code",
   "execution_count": 42,
   "metadata": {},
   "outputs": [],
   "source": [
    "mw_dict = dict(zip(infor['compound'], infor['MW']))\n",
    "for i in formula.index:\n",
    "    for j in range(1, 9):\n",
    "        c_col = f'c{j}'\n",
    "        m_col = f'm{j}'\n",
    "        n_col = f'n{j}'\n",
    "        \n",
    "        if c_col in formula.columns and pd.notna(formula.loc[i, c_col]):\n",
    "            compound = formula.loc[i, c_col]\n",
    "            mol = formula.loc[i, m_col]\n",
    "            if compound in mw_dict:\n",
    "                formula.loc[i, n_col] = mw_dict[compound] * mol\n",
    "            else:\n",
    "                compound_with_formula = next((k for k in mw_dict.keys() if k.startswith(compound + \" (\")), None)\n",
    "                if compound_with_formula:\n",
    "                    formula.loc[i, n_col] = mw_dict[compound_with_formula] * mol"
   ]
  },
  {
   "cell_type": "code",
   "execution_count": null,
   "metadata": {},
   "outputs": [],
   "source": [
    "o_dict = dict(zip(infor['compound'], infor['O']))\n",
    "f_dict = dict(zip(infor['compound'], infor['F']))\n",
    "c_dict = dict(zip(infor['compound'], infor['C']))\n",
    "h_dict = dict(zip(infor['compound'], infor['H']))\n",
    "\n",
    "for i in formula.index:\n",
    "    for j in range(1, 9):\n",
    "        c_col = f'c{j}'\n",
    "        if c_col in formula.columns and pd.notna(formula.loc[i, c_col]):\n",
    "            compound = formula.loc[i, c_col]\n",
    "            if 'Li' in compound:\n",
    "                # For Li-containing compounds\n",
    "                for k in o_dict.keys():\n",
    "                    if k.startswith(compound + \" (\"):\n",
    "                        formula.loc[i, f'a{j}O'] = o_dict[k] if pd.notna(o_dict[k]) else 0\n",
    "                        formula.loc[i, f'a{j}F'] = f_dict[k] if pd.notna(f_dict[k]) else 0\n",
    "                        break\n",
    "            else:\n",
    "                # For non-Li compounds\n",
    "                for k in o_dict.keys():\n",
    "                    if k.startswith(compound + \" (\"):\n",
    "                        formula.loc[i, f's{j}C'] = c_dict[k] if pd.notna(c_dict[k]) else 0\n",
    "                        formula.loc[i, f's{j}H'] = h_dict[k] if pd.notna(h_dict[k]) else 0\n",
    "                        formula.loc[i, f's{j}O'] = o_dict[k] if pd.notna(o_dict[k]) else 0\n",
    "                        formula.loc[i, f's{j}F'] = f_dict[k] if pd.notna(f_dict[k]) else 0\n",
    "                        break\n"
   ]
  }
 ],
 "metadata": {
  "kernelspec": {
   "display_name": "Python 3",
   "language": "python",
   "name": "python3"
  },
  "language_info": {
   "codemirror_mode": {
    "name": "ipython",
    "version": 3
   },
   "file_extension": ".py",
   "mimetype": "text/x-python",
   "name": "python",
   "nbconvert_exporter": "python",
   "pygments_lexer": "ipython3",
   "version": "3.9.11"
  }
 },
 "nbformat": 4,
 "nbformat_minor": 2
}
