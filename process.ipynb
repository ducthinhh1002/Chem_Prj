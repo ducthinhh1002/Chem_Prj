{
 "cells": [
  {
   "cell_type": "code",
   "execution_count": 11,
   "metadata": {},
   "outputs": [],
   "source": [
    "import pandas as pd\n",
    "import re\n",
    "import numpy as np\n",
    "\n",
    "formula = pd.read_excel('sample.xlsx', sheet_name='formula')\n",
    "infor = pd.read_excel('sample.xlsx', sheet_name='infor')    "
   ]
  },
  {
   "cell_type": "code",
   "execution_count": 12,
   "metadata": {},
   "outputs": [],
   "source": [
    "def split_general_formula(row):\n",
    "    try:\n",
    "        formula_str = str(row['formula']).strip()\n",
    "        match = re.match(r\"([A-Za-z0-9\\-]+(?:-[A-Za-z0-9\\-]+)*)\\s*\\(([\\d\\.\\-]+(?:-[\\d\\.\\-]+)*)\\s*mol\\)\", formula_str)\n",
    "        if not match:\n",
    "            return pd.Series()\n",
    "        compounds_part, mols_part = match.groups()\n",
    "        compounds = compounds_part.split(\"-\")\n",
    "        mols = [float(m) for m in mols_part.split(\"-\")]\n",
    "        if len(compounds) != len(mols):\n",
    "            return pd.Series()\n",
    "        data = {}\n",
    "        for i, (compound, mol_val) in enumerate(zip(compounds, mols), start=1):\n",
    "            data[f\"c{i}\"] = compound\n",
    "            data[f\"n{i}\"] = mol_val\n",
    "        return pd.Series(data)\n",
    "    except:\n",
    "        return pd.Series()\n",
    "\n",
    "df_result = formula.apply(split_general_formula, axis=1)\n",
    "df_result = df_result.dropna(how='all')\n",
    "formula = pd.concat([formula, df_result], axis=1)"
   ]
  },
  {
   "cell_type": "code",
   "execution_count": 13,
   "metadata": {},
   "outputs": [],
   "source": [
    "o_dict = dict(zip(infor['compound'], infor['O']))\n",
    "f_dict = dict(zip(infor['compound'], infor['F']))\n",
    "c_dict = dict(zip(infor['compound'], infor['C']))\n",
    "h_dict = dict(zip(infor['compound'], infor['H']))\n",
    "\n",
    "for i in formula.index:\n",
    "    s_count = 1  \n",
    "    a_count = 1\n",
    "    Li = 0\n",
    "    sol = 0\n",
    "    \n",
    "    for j in range(1, 9):\n",
    "        c_col = f'c{j}'\n",
    "        n_col = f'n{j}'\n",
    "        if c_col in formula.columns and pd.notna(formula.loc[i, c_col]):\n",
    "            compound = formula.loc[i, c_col]\n",
    "            n_value = formula.loc[i, n_col]\n",
    "            \n",
    "            if 'Li' in compound:\n",
    "                Li += n_value\n",
    "                for k in o_dict.keys():\n",
    "                    if compound in k:\n",
    "                        formula.loc[i, f'a{a_count}O'] = o_dict[k] if pd.notna(o_dict[k]) else 0\n",
    "                        formula.loc[i, f'a{a_count}F'] = f_dict[k] if pd.notna(f_dict[k]) else 0\n",
    "                        a_count += 1\n",
    "                        break\n",
    "            else:\n",
    "                sol += n_value\n",
    "                for k in o_dict.keys():\n",
    "                    if compound in k:\n",
    "                        formula.loc[i, f's{s_count}C'] = c_dict[k] if pd.notna(c_dict[k]) else 0\n",
    "                        formula.loc[i, f's{s_count}H'] = h_dict[k] if pd.notna(h_dict[k]) else 0\n",
    "                        formula.loc[i, f's{s_count}O'] = o_dict[k] if pd.notna(o_dict[k]) else 0\n",
    "                        formula.loc[i, f's{s_count}F'] = f_dict[k] if pd.notna(f_dict[k]) else 0\n",
    "                        s_count += 1\n",
    "                        break\n",
    "    \n",
    "    formula.loc[i, 'Li'] = Li\n",
    "    formula.loc[i, 'sol'] = sol\n",
    "    formula.loc[i, 'Li/sol'] = round(Li/sol, 3) if sol != 0 else 0\n"
   ]
  },
  {
   "cell_type": "code",
   "execution_count": 14,
   "metadata": {},
   "outputs": [],
   "source": [
    "prefix_suffix_pairs = [\n",
    "    ('a', 'O'),\n",
    "    ('a', 'F'),\n",
    "    ('s', 'C'),\n",
    "    ('s', 'H'),\n",
    "    ('s', 'O'),\n",
    "    ('s', 'F')\n",
    "]\n",
    "\n",
    "for prefix, suffix in prefix_suffix_pairs:\n",
    "    cols = [col for col in formula.columns if col.startswith(prefix) and col.endswith(suffix) and len(col) == 3]\n",
    "    formula[prefix + suffix] = formula[cols].sum(axis=1, skipna=True)\n",
    "\n",
    "formula['sF/sC'] = formula.apply(lambda x: round(x['sF'] / x['sC'], 2) if pd.notna(x['sF']) and pd.notna(x['sC']) and x['sC'] != 0 else 0, axis=1)\n",
    "formula['sF/sO'] = formula.apply(lambda x: round(x['sF'] / x['sO'], 2) if pd.notna(x['sF']) and pd.notna(x['sO']) and x['sO'] != 0 else 0, axis=1)\n",
    "formula['sC/sH'] = formula.apply(lambda x: round(x['sC'] / x['sH'], 2) if pd.notna(x['sC']) and pd.notna(x['sH']) and x['sH'] != 0 else 0, axis=1)\n",
    "formula['sO/sC'] = formula.apply(lambda x: round(x['sO'] / x['sC'], 2) if pd.notna(x['sO']) and pd.notna(x['sC']) and x['sC'] != 0 else 0, axis=1)"
   ]
  },
  {
   "cell_type": "code",
   "execution_count": 15,
   "metadata": {},
   "outputs": [],
   "source": [
    "smiles_dict = dict(zip(infor['compound'], infor['SMILES']))\n",
    "formula['dbO'] = 0\n",
    "for i in formula.index:\n",
    "    db_count = 0\n",
    "    for j in range(1, 9):\n",
    "        c_col = f'c{j}'\n",
    "        if c_col in formula.columns and pd.notna(formula.loc[i, c_col]):\n",
    "            compound = formula.loc[i, c_col]\n",
    "            for k in smiles_dict.keys():\n",
    "                if compound in k and pd.notna(smiles_dict[k]):\n",
    "                    db_count += smiles_dict[k].count('=')\n",
    "                    break\n",
    "    formula.loc[i, 'dbO'] = db_count\n",
    "formula['sbO'] = formula['sO'] - formula['dbO']"
   ]
  },
  {
   "cell_type": "code",
   "execution_count": null,
   "metadata": {},
   "outputs": [],
   "source": [
    "formula"
   ]
  },
  {
   "cell_type": "code",
   "execution_count": 16,
   "metadata": {},
   "outputs": [],
   "source": [
    "with pd.ExcelWriter('result.xlsx') as writer:\n",
    "    formula.to_excel(writer, sheet_name='formula', index=True)\n",
    "    infor.to_excel(writer, sheet_name='infor', index=True)"
   ]
  }
 ],
 "metadata": {
  "kernelspec": {
   "display_name": "Python 3",
   "language": "python",
   "name": "python3"
  },
  "language_info": {
   "codemirror_mode": {
    "name": "ipython",
    "version": 3
   },
   "file_extension": ".py",
   "mimetype": "text/x-python",
   "name": "python",
   "nbconvert_exporter": "python",
   "pygments_lexer": "ipython3",
   "version": "3.9.11"
  }
 },
 "nbformat": 4,
 "nbformat_minor": 2
}
